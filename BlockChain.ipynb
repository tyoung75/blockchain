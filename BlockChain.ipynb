{
 "cells": [
  {
   "cell_type": "code",
   "execution_count": 15,
   "metadata": {
    "collapsed": true
   },
   "outputs": [],
   "source": [
    "import hashlib, json, sys\n"
   ]
  },
  {
   "cell_type": "code",
   "execution_count": 16,
   "metadata": {
    "collapsed": true
   },
   "outputs": [],
   "source": [
    "# Creating a hash fn to create a fingerprint for each transaction, linkin blocks together\n",
    "# Defining a helper function to wrap the python hash fn used\n",
    "def hashMe(msg=\"\"):\n",
    "    #helper function that wraps hashing alg.\n",
    "    if type(msg)!=str:\n",
    "        msg = json.dumps(msg,sort_keys=True)\n",
    "        \n",
    "    if sys.version_info.major == 2:\n",
    "        return unicode(haslib.sha256(msg).hexdigest(),'utf-8')\n",
    "    else:\n",
    "        return hashlib.sha256(str(msg).encode('utf-8')).hexdigest()\n",
    "    \n",
    "                              "
   ]
  },
  {
   "cell_type": "code",
   "execution_count": 17,
   "metadata": {
    "collapsed": true
   },
   "outputs": [],
   "source": [
    "# want to create a fn to generate exchanges between Tyler and Conner\n",
    "    # withdrawls = negative number , deposits = positive\n",
    "#Constructing transactions to be between two users of our system and make sure deposits = withdrawls\n",
    "    # not creating or destroying money\n",
    "\n",
    "import random\n",
    "random.seed(0)\n",
    "\n",
    "def makeTransaction(maxValue = 5):\n",
    "    #Will create valid transactions in range of (1,maxValue), maxValue = 5\n",
    "    sign = int(random.getrandbits(1))*2 - 1 # Will randomly choose value -1 or 1\n",
    "    amount = random.randint(1,maxValue)\n",
    "    alicePays = sign * amount\n",
    "    bobPays = -1 * alicePays\n",
    "    # This construction will return transactions that respect conservation of tokens.\n",
    "    # However, must check if transaction overdraft an account\n",
    "    return {u'Alice':alicePays,u'Bob':bobPays}"
   ]
  },
  {
   "cell_type": "code",
   "execution_count": 18,
   "metadata": {
    "collapsed": true
   },
   "outputs": [],
   "source": [
    "# Now creating set of transactions, and chunk them into blocks\n",
    "txnBuffer = [makeTransaction() for i in range(30)]"
   ]
  },
  {
   "cell_type": "code",
   "execution_count": 19,
   "metadata": {
    "collapsed": true
   },
   "outputs": [],
   "source": [
    "# Now to make blocks. Take first k transactions from buffer and turn into block, but first\n",
    "# need to define a method for checking the validity of transactions we've pulled into the block\n",
    "# Basic token system\n",
    "    # deposits + withdrawls = 0     Tokens arent created or destroyed\n",
    "    # Users account must have enough to pay withdrawls\n",
    "\n",
    "def updateState(txn, state):\n",
    "    #Inputs: txn, state: dictionaries keyed with account names that hold numeric values\n",
    "    #for transfer amount (txn) or account balance (state)\n",
    "    #Returns: Updated state, with additional users added to account balance (txn) if necessary\n",
    "    #Note: Doesn't validate, updates transfer amount (txn)\n",
    "    state = state.copy() #Working copy of data to avoid confusion of mutable dictionaries\n",
    "    for key in txn:\n",
    "        if key in state.keys():\n",
    "            state[key] += txn[key]\n",
    "        else:\n",
    "            state[key] = txn[key]\n",
    "    return state"
   ]
  },
  {
   "cell_type": "code",
   "execution_count": 20,
   "metadata": {
    "collapsed": true
   },
   "outputs": [],
   "source": [
    "def isValidTxn(txn,state):\n",
    "    # Asumming transaction is a dictionary keyed by account names\n",
    "    \n",
    "    # Check that the sum of the deposits and withdrawls is 0\n",
    "    if sum(txn.values()) is not 0:\n",
    "        return False\n",
    "    \n",
    "    # Check that the transaction is valid. Meaning doesnt cause over draft\n",
    "    for key in txn.keys():\n",
    "        if key in state.keys():\n",
    "            acctBalance = state[key]\n",
    "        else:\n",
    "            acctBalance = 0\n",
    "        if (acctBalance + txn[key]) <0:\n",
    "            return False\n",
    "        \n",
    "    return True"
   ]
  },
  {
   "cell_type": "code",
   "execution_count": 21,
   "metadata": {},
   "outputs": [
    {
     "name": "stdout",
     "output_type": "stream",
     "text": [
      "True\n",
      "False\n",
      "False\n",
      "True\n",
      "True\n"
     ]
    }
   ],
   "source": [
    "state = {u'Alice':5, u'Bob':5}\n",
    "\n",
    "print(isValidTxn({u'Alice': -3, u'Bob': 3},state)) #Basic Transaction\n",
    "print(isValidTxn({u'Alice': -4, u'Bob': 3},state)) # Doesn't work because destroying tokens\n",
    "print(isValidTxn({u'Alice': -6, u'Bob': 6},state)) # OVerdraft, only have 5 tokens each\n",
    "print(isValidTxn({u'Alice': -4, u'Bob': 2, u'Lisa': 2},state)) #creating users\n",
    "print(isValidTxn({u'Alice': -5, u'Bob': 1, u'Lisa': 1, u'Conner': 2, u'Tyler': 1},state)) #Many new users"
   ]
  },
  {
   "cell_type": "code",
   "execution_count": 22,
   "metadata": {
    "collapsed": true
   },
   "outputs": [],
   "source": [
    "### Building the Blockchain: From Transactions to Blocks\n",
    "    # Genesis Block: the first blook in the system\n",
    "state = {u'Alice': 50, u'Bob':50}\n",
    "genesisBlockTxns = [state]\n",
    "genesisBlockContents = {u'blockNumber' : 0, u'parentHash': None,u'txnCount': 1,u'txns':genesisBlockTxns}\n",
    "genesisHash = hashMe( genesisBlockContents )\n",
    "genesisBlock = {u'hash': genesisHash, u'contents':genesisBlockContents}\n",
    "genesisBlockStr = json.dumps(genesisBlock, sort_keys = True)\n",
    "\n",
    "# Becomes first element from which everything else will be linked"
   ]
  },
  {
   "cell_type": "code",
   "execution_count": 23,
   "metadata": {
    "collapsed": true
   },
   "outputs": [],
   "source": [
    "chain = [genesisBlock]"
   ]
  },
  {
   "cell_type": "code",
   "execution_count": 24,
   "metadata": {
    "collapsed": true
   },
   "outputs": [],
   "source": [
    "# For each block, we want to collect set of transactions, create a header, hash it, and add to chain\n",
    "def makeBlock(txns,chain):\n",
    "    parentBlock = chain[-1]\n",
    "    parentHash = parentBlock[u'hash']\n",
    "    blockNumber = parentBlock[u'contents'][u'blockNumber'] + 1\n",
    "    txnCount = len(txns)\n",
    "    blockContents = {u'blockNumber': blockNumber, u'parentHash': parentHash, u'txnCount':len(txns), u'txns':txns}\n",
    "    blockHash = hashMe( blockContents )\n",
    "    block = {u'hash': blockHash, u'contents':blockContents}\n",
    "    \n",
    "    return block"
   ]
  },
  {
   "cell_type": "code",
   "execution_count": 25,
   "metadata": {
    "collapsed": true
   },
   "outputs": [],
   "source": [
    "# using to process transaction buffer into a set of blocks\n",
    "\n",
    "blockSizeLimit = 5 # Arbitary number of transactions per block, chosen by block miner and can vary between blocks\n",
    "\n",
    "while len(txnBuffer) > 0:\n",
    "    bufferStartSize = len(txnBuffer)\n",
    "    \n",
    "    ## Gather a set of valid transactions for inclusion\n",
    "    txnList = []\n",
    "    while (len(txnBuffer) > 0) & (len(txnList) < blockSizeLimit):\n",
    "        newTxn = txnBuffer.pop()\n",
    "        validTxn = isValidTxn(newTxn, state) # Will return False if txn is not valid\n",
    "        \n",
    "        if validTxn: # a valid state, not 'False'\n",
    "            txnList.append(newTxn)\n",
    "            state = updateState(newTxn,state)\n",
    "        else:\n",
    "            print(\"Ignored Transaction : *Invalid*\")\n",
    "            sys.stdout.flush()\n",
    "            continue # Says this was an invalid transaction, ignore and more on\n",
    "            \n",
    "    myBlock = makeBlock(txnList,chain)\n",
    "    chain.append(myBlock)\n",
    "    \n",
    "    "
   ]
  },
  {
   "cell_type": "code",
   "execution_count": 26,
   "metadata": {},
   "outputs": [
    {
     "data": {
      "text/plain": [
       "{'contents': {'blockNumber': 0,\n",
       "  'parentHash': None,\n",
       "  'txnCount': 1,\n",
       "  'txns': [{'Alice': 50, 'Bob': 50}]},\n",
       " 'hash': '7c88a4312054f89a2b73b04989cd9b9e1ae437e1048f89fbb4e18a08479de507'}"
      ]
     },
     "execution_count": 26,
     "metadata": {},
     "output_type": "execute_result"
    }
   ],
   "source": [
    "chain[0]"
   ]
  },
  {
   "cell_type": "code",
   "execution_count": 27,
   "metadata": {},
   "outputs": [
    {
     "data": {
      "text/plain": [
       "{'contents': {'blockNumber': 1,\n",
       "  'parentHash': '7c88a4312054f89a2b73b04989cd9b9e1ae437e1048f89fbb4e18a08479de507',\n",
       "  'txnCount': 5,\n",
       "  'txns': [{'Alice': -4, 'Bob': 4},\n",
       "   {'Alice': 1, 'Bob': -1},\n",
       "   {'Alice': 5, 'Bob': -5},\n",
       "   {'Alice': -1, 'Bob': 1},\n",
       "   {'Alice': 5, 'Bob': -5}]},\n",
       " 'hash': 'f6e176628034eb046c43e3091a8b8dd19e6f99ae9f9b13168387808dfd8f37aa'}"
      ]
     },
     "execution_count": 27,
     "metadata": {},
     "output_type": "execute_result"
    }
   ],
   "source": [
    "chain[1]"
   ]
  },
  {
   "cell_type": "code",
   "execution_count": 28,
   "metadata": {},
   "outputs": [
    {
     "data": {
      "text/plain": [
       "{'Alice': 77, 'Bob': 23}"
      ]
     },
     "execution_count": 28,
     "metadata": {},
     "output_type": "execute_result"
    }
   ],
   "source": [
    "state"
   ]
  },
  {
   "cell_type": "code",
   "execution_count": 29,
   "metadata": {},
   "outputs": [],
   "source": [
    "### Checking Chain Validity\n",
    "\n",
    "# defining functions to check that new blocks are valid and that the whole chain is valid\n",
    "def checkBlockHash(block):\n",
    "    # raise exception if hash does not match block contents\n",
    "    expectedHash = hashMe( block['contents'] )\n",
    "    if block['hash'] != expectedHash:\n",
    "        raise Exception('Hash does not match contents of block %s'%\n",
    "                       block['contents']['blockNumber'])\n",
    "    return"
   ]
  },
  {
   "cell_type": "code",
   "execution_count": 30,
   "metadata": {},
   "outputs": [],
   "source": [
    "def checkBlockValidity(block,parent,state):\n",
    "    # Want to check\n",
    "        #Each of the transactions are valid updates to the system state\n",
    "        #Block hash is valid for the block contents\n",
    "        #Block number increments the parent block number by 1\n",
    "        #Accurately reference the parent block's hash\n",
    "    parentNumber = parent['contents']['blockNumber']\n",
    "    parentHash = parent['hash']\n",
    "    blockNumber = block ['contents']['blockNumber']\n",
    "        \n",
    "        #check transaction validity, error if invalid transaction\n",
    "    for txn in block['contents']['txns']:\n",
    "        if isValidTxn(txn,state):\n",
    "            state = updateState(txn,state)\n",
    "        else:\n",
    "            raise Exception('Invalid transaction in block %s: %s' % (blockNumber,txn))\n",
    "    \n",
    "    checkBlockHash(block) #check hash integrity, error if inaccurate\n",
    "    \n",
    "    if blockNumber != (parentNumber + 1):\n",
    "        raise Exception('Hash number does not match contents of block %s' %blockNumber)\n",
    "        \n",
    "    return state\n"
   ]
  },
  {
   "cell_type": "code",
   "execution_count": 31,
   "metadata": {},
   "outputs": [],
   "source": [
    "def checkChain(chain):\n",
    "    # work through chain from genesis block, checking that all transactions are internally valid,\n",
    "    # that the transactions do not cause an overdraft, and that the blocks are linked by their hashes.\n",
    "    #This returns the state as a directory of accounts and balances, or returns false if error\n",
    "    \n",
    "    ##Data input processing: Make sure that our chain is a list of dicts\n",
    "    if type(chain) == str:\n",
    "        try:\n",
    "            chain = json.loads(chain)\n",
    "            assert( type(chain)==list)\n",
    "        except:  # This is a catch-all, admittedly crude\n",
    "            return False\n",
    "    elif type(chain)!= list:\n",
    "        return False\n",
    "    \n",
    "    state = {}\n",
    "    #Prime pump by checkin genesis block\n",
    "    # want to check for:\n",
    "        # each of transactions are valid updates to the system state\n",
    "        # block hash is valid for the block contents\n",
    "    \n",
    "    for txn in chain[0]['contents']['txns']:\n",
    "        state = updateState(txn,state)\n",
    "    checkBlockHash(chain[0])\n",
    "    parent = chain[0]\n",
    "    \n",
    "    # Check subsequent blocks: These additionally need to check\n",
    "        # reference to parents block's hash\n",
    "        # the validity of the block number\n",
    "        \n",
    "    for block in chain[1:]:\n",
    "        state = checkBlockValidity(block,parent,state)\n",
    "        parent = block\n",
    "        \n",
    "    return state"
   ]
  },
  {
   "cell_type": "code",
   "execution_count": 32,
   "metadata": {},
   "outputs": [
    {
     "data": {
      "text/plain": [
       "{'Alice': 77, 'Bob': 23}"
      ]
     },
     "execution_count": 32,
     "metadata": {},
     "output_type": "execute_result"
    }
   ],
   "source": [
    "checkChain(chain)"
   ]
  },
  {
   "cell_type": "code",
   "execution_count": 33,
   "metadata": {},
   "outputs": [
    {
     "data": {
      "text/plain": [
       "{'Alice': 77, 'Bob': 23}"
      ]
     },
     "execution_count": 33,
     "metadata": {},
     "output_type": "execute_result"
    }
   ],
   "source": [
    "chainAsText = json.dumps(chain,sort_keys=True)\n",
    "checkChain(chainAsText)"
   ]
  },
  {
   "cell_type": "code",
   "execution_count": 34,
   "metadata": {
    "collapsed": true
   },
   "outputs": [],
   "source": [
    "import copy\n",
    "nodeBchain = copy.copy(chain)\n",
    "nodeBtxns = [makeTransaction() for i in range(5)]\n",
    "newBlock = makeBlock(nodeBtxns,nodeBchain)"
   ]
  },
  {
   "cell_type": "code",
   "execution_count": 35,
   "metadata": {},
   "outputs": [
    {
     "name": "stdout",
     "output_type": "stream",
     "text": [
      "Blockchain on Node A is currently 7 blocks long\n",
      "New Block Received; checking validity...\n",
      "Invalid Block; ignoring and waiting for next block...\n",
      "Blockchain on Node A is now 7 blocks long\n"
     ]
    }
   ],
   "source": [
    "print(\"Blockchain on Node A is currently %s blocks long\" %len(chain))\n",
    "\n",
    "try:\n",
    "    print(\"New Block Received; checking validity...\")\n",
    "    state = checkBlockValidity(newBlock,chain[-1], state) # Update state this will give error if block is invalid\n",
    "    chain.eppend(newBlock)\n",
    "except:\n",
    "    print(\"Invalid Block; ignoring and waiting for next block...\")\n",
    "    \n",
    "print(\"Blockchain on Node A is now %s blocks long\" %len(chain))"
   ]
  },
  {
   "cell_type": "code",
   "execution_count": null,
   "metadata": {
    "collapsed": true
   },
   "outputs": [],
   "source": []
  }
 ],
 "metadata": {
  "kernelspec": {
   "display_name": "Python 3",
   "language": "python",
   "name": "python3"
  },
  "language_info": {
   "codemirror_mode": {
    "name": "ipython",
    "version": 3
   },
   "file_extension": ".py",
   "mimetype": "text/x-python",
   "name": "python",
   "nbconvert_exporter": "python",
   "pygments_lexer": "ipython3",
   "version": "3.6.4"
  }
 },
 "nbformat": 4,
 "nbformat_minor": 2
}
